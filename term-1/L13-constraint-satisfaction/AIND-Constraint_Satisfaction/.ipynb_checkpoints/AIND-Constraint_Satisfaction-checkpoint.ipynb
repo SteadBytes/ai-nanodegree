{
 "cells": [
  {
   "cell_type": "markdown",
   "metadata": {
    "deletable": true,
    "editable": true
   },
   "source": [
    "# Constraint Satisfaction Problems Lab\n",
    "\n",
    "## Introduction\n",
    "Constraint Satisfaction is a technique for solving problems by expressing limits on the values of each variable in the solution with mathematical constraints.  We've used constraints before -- constraints in the Sudoku project are enforced implicitly by filtering the legal values for each box, and the planning project represents constraints as arcs connecting nodes in the planning graph -- but in this lab exercise we will use a symbolic math library to explicitly construct binary constraints and then use Backtracking to solve the N-queens problem (which is a generalization [8-queens problem](https://en.wikipedia.org/wiki/Eight_queens_puzzle)).  Using symbolic constraints should make it easier to visualize and reason about the constraints (especially for debugging), but comes with a performance penalty.\n",
    "\n",
    "![8-queens puzzle solution](EightQueens.gif)\n",
    "\n",
    "Briefly, the 8-queens problem asks you to place 8 queens on a standard 8x8 chessboard such that none of the queens are in \"check\" (i.e., no two queens occupy the same row, column, or diagonal). The N-queens problem generalizes the puzzle to to any size square board.\n",
    "\n",
    "## I. Lab Overview\n",
    "Students should read through the code and the wikipedia page (or other resources) to understand the N-queens problem, then:\n",
    "\n",
    "0. Complete the warmup exercises in the [Sympy_Intro notebook](Sympy_Intro.ipynb) to become familiar with they sympy library and symbolic representation for constraints\n",
    "0. Implement the [NQueensCSP class](#II.-Representing-the-N-Queens-Problem) to develop an efficient encoding of the N-queens problem and explicitly generate the constraints bounding the solution\n",
    "0. Write the [search functions](#III.-Backtracking-Search) for recursive backtracking, and use them to solve the N-queens problem\n",
    "0. (Optional) Conduct [additional experiments](#IV.-Experiments-%28Optional%29) with CSPs and various modifications to the search order (minimum remaining values, least constraining value, etc.)"
   ]
  },
  {
   "cell_type": "code",
   "execution_count": 18,
   "metadata": {
    "collapsed": true,
    "deletable": true,
    "editable": true
   },
   "outputs": [],
   "source": [
    "import matplotlib as mpl\n",
    "import matplotlib.pyplot as plt\n",
    "\n",
    "from util import constraint, displayBoard\n",
    "from sympy import *\n",
    "from IPython.display import display\n",
    "init_printing()\n",
    "%matplotlib inline"
   ]
  },
  {
   "cell_type": "markdown",
   "metadata": {
    "deletable": true,
    "editable": true
   },
   "source": [
    "## II. Representing the N-Queens Problem\n",
    "There are many acceptable ways to represent the N-queens problem, but one convenient way is to recognize that one of the constraints (either the row or column constraint) can be enforced implicitly by the encoding.  If we represent a solution as an array with N elements, then each position in the array can represent a column of the board, and the value at each position can represent which row the queen is placed on.\n",
    "\n",
    "In this encoding, we only need a constraint to make sure that no two queens occupy the same row, and one to make sure that no two queens occupy the same diagonal.\n",
    "\n",
    "### Define Symbolic Expressions for the Problem Constraints\n",
    "Before implementing the board class, we need to construct the symbolic constraints that will be used in the CSP.  Declare any symbolic terms required, and then declare two generic constraint generators:\n",
    "- `diffRow` - generate constraints that return True if the two arguments do not match\n",
    "- `diffDiag` - generate constraints that return True if two arguments are not on the same diagonal (Hint: you can easily test whether queens in two columns are on the same diagonal by testing if the difference in the number of rows and the number of columns match)\n",
    "\n",
    "Both generators should produce binary constraints (i.e., each should have two free symbols) once they're bound to specific variables in the CSP.  For example, Eq((a + b), (b + c)) is not a binary constraint, but Eq((a + b), (b + c)).subs(b, 1) _is_ a binary constraint because one of the terms has been bound to a constant, so there are only two free variables remaining. "
   ]
  },
  {
   "cell_type": "code",
   "execution_count": 19,
   "metadata": {
    "collapsed": false,
    "deletable": true,
    "editable": true
   },
   "outputs": [],
   "source": [
    "# Declare any required symbolic variables\n",
    "x0,x1,y0,y1 = symbols('x:2, y:2')\n",
    "# Define diffRow and diffDiag constraints\n",
    "diffRow = constraint('diffRow', Ne(y0,y1))\n",
    "diffDiag = constraint('diffDiag', Ne(abs(x0-x1),abs(y0-y1)))"
   ]
  },
  {
   "cell_type": "code",
   "execution_count": 20,
   "metadata": {
    "collapsed": false,
    "deletable": true,
    "editable": true
   },
   "outputs": [
    {
     "name": "stdout",
     "output_type": "stream",
     "text": [
      "Passed all diffRow tests.\n",
      "Passed all diffDiag tests.\n"
     ]
    }
   ],
   "source": [
    "# Test diffRow and diffDiag\n",
    "_x = symbols(\"x:3\")\n",
    "\n",
    "# generate a diffRow instance for testing\n",
    "#raise NotImplementedError(\"TODO: use your diffRow constraint to generate a diffRow constraint for _x[0] and _x[1]\")\n",
    "diffRow_test = diffRow.subs({y0:_x[0], y1:_x[1]})\n",
    "\n",
    "assert(len(diffRow_test.free_symbols) == 2)\n",
    "assert(diffRow_test.subs({_x[0]: 0, _x[1]: 1}) == True)\n",
    "assert(diffRow_test.subs({_x[0]: 0, _x[1]: 0}) == False)\n",
    "assert(diffRow_test.subs({_x[0]: 0}) != False)  # partial assignment is not false\n",
    "print(\"Passed all diffRow tests.\")\n",
    "\n",
    "# generate a diffDiag instance for testing\n",
    "#raise NotImplementedError(\"TODO: use your diffDiag constraint to generate a diffDiag constraint for _x[0] and _x[2]\")\n",
    "diffDiag_test = diffDiag.subs({y0:0, y1:2, x0: _x[0], x1:_x[2]})\n",
    "\n",
    "assert(len(diffDiag_test.free_symbols) == 2)\n",
    "assert(diffDiag_test.subs({_x[0]: 0, _x[2]: 2}) == False)\n",
    "assert(diffDiag_test.subs({_x[0]: 0, _x[2]: 0}) == True)\n",
    "assert(diffDiag_test.subs({_x[0]: 0}) != False)  # partial assignment is not false\n",
    "print(\"Passed all diffDiag tests.\")"
   ]
  },
  {
   "cell_type": "markdown",
   "metadata": {
    "deletable": true,
    "editable": true
   },
   "source": [
    "### The N-Queens CSP Class\n",
    "Implement the CSP class as described above, with constraints to make sure each queen is on a different row and different diagonal than every other queen, and a variable for each column defining the row that containing a queen in that column."
   ]
  },
  {
   "cell_type": "code",
   "execution_count": 76,
   "metadata": {
    "collapsed": false,
    "deletable": true,
    "editable": true
   },
   "outputs": [],
   "source": [
    "class NQueensCSP:\n",
    "    \"\"\"CSP representation of the N-queens problem\n",
    "    \n",
    "    Parameters\n",
    "    ----------\n",
    "    N : Integer\n",
    "        The side length of a square chess board to use for the problem, and\n",
    "        the number of queens that must be placed on the board\n",
    "    \"\"\"\n",
    "    def __init__(self, N):\n",
    "        #raise NotImplementedError(\"TODO: declare symbolic variables in self._vars in the CSP constructor\")\n",
    "        _vars = symbols('y:%s'%N)\n",
    "        _domain = set(range(N))\n",
    "        self.size = N\n",
    "        self.variables = _vars\n",
    "        self.domains = {v: _domain for v in _vars}\n",
    "        self._constraints = {x: set() for x in _vars}\n",
    "\n",
    "        # add constraints - for each pair of variables xi and xj, create\n",
    "        # a diffRow(xi, xj) and a diffDiag(xi, xj) instance, and add them\n",
    "        # to the self._constraints dictionary keyed to both xi and xj;\n",
    "        # (i.e., add them to both self._constraints[xi] and self._constraints[xj])#\n",
    "        \n",
    "        self._arcs = [] # prevent dupplicate pairs of different order -> (xi,xj), (xj,xi)\n",
    "        # Could also use itertools.combinations\n",
    "        for i in range(len(self.variables)):\n",
    "            xi = self.variables[i]\n",
    "            for j in range(len(self.variables)):\n",
    "                xj = self.variables[j]\n",
    "                if xi != xj and (xj,xi) not in self._arcs:\n",
    "                    self._arcs.append((xi,xj))\n",
    "                    # using .subs() on diffRow/diffDiag constraints previously declared\n",
    "                    # evaluates the expressions if no free variables left (return Bool)\n",
    "                    # Causes problems during CSP searching/consistency checking\n",
    "                    # Create new constraints each time to solve\n",
    "                    c_diff_rows = constraint(\"diffRow\", Ne(xi, xj))\n",
    "                    c_diff_diag = constraint(\"diffDiag\", Ne(abs(xi-xj),abs(i - j)))\n",
    "                    (self._constraints[xi]).add(c_diff_rows)\n",
    "                    (self._constraints[xi]).add(c_diff_diag)\n",
    "                    (self._constraints[xj]).add(c_diff_rows)\n",
    "                    (self._constraints[xj]).add(c_diff_diag)\n",
    "    @property\n",
    "    def constraints(self):\n",
    "        \"\"\"Read-only list of constraints -- cannot be used for evaluation \"\"\"\n",
    "        constraints = set()\n",
    "        for _cons in self._constraints.values():\n",
    "            constraints |= _cons\n",
    "        return list(constraints)\n",
    "    \n",
    "    def is_complete(self, assignment):\n",
    "        \"\"\"An assignment is complete if it is consistent, and all constraints\n",
    "        are satisfied.\n",
    "        \n",
    "        Hint: Backtracking search checks consistency of each assignment, so checking\n",
    "        for completeness can be done very efficiently\n",
    "        \n",
    "        Parameters\n",
    "        ----------\n",
    "        assignment : dict(sympy.Symbol: Integer)\n",
    "            An assignment of values to variables that have previously been checked\n",
    "            for consistency with the CSP constraints\n",
    "        \"\"\"\n",
    "        #raise NotImplementedError(\"TODO: implement the is_complete() method of the CSP\")\n",
    "        assigned = 0\n",
    "        for var in self.variables:\n",
    "            if var in assignment and assignment[var] in self.domains[var]:\n",
    "                assigned +=1\n",
    "        if assigned == self.size:\n",
    "            return True\n",
    "        return False\n",
    "    \n",
    "    def is_consistent(self, var, value, assignment):\n",
    "        \"\"\"Check consistency of a proposed variable assignment\n",
    "                \n",
    "        self._constraints[x] returns a set of constraints that involve variable `x`.\n",
    "        An assignment is consistent unless the assignment it causes a constraint to\n",
    "        return False (partial assignments are always consistent).\n",
    "        \n",
    "        Parameters\n",
    "        ----------\n",
    "        var : sympy.Symbol\n",
    "            One of the symbolic variables in the CSP\n",
    "            \n",
    "        value : Numeric\n",
    "            A valid value (i.e., in the domain of) the variable `var` for assignment\n",
    "\n",
    "        assignment : dict(sympy.Symbol: Integer)\n",
    "            A dictionary mapping CSP variables to row assignment of each queen\n",
    "            \n",
    "        \"\"\"\n",
    "        #raise NotImplementedError(\"TODO: implement the is_consistent() method of the CSP\")\n",
    "        constraints = self._constraints[var]\n",
    "        for c in constraints:\n",
    "            c_args = c.args\n",
    "            if c_args[0] == var:\n",
    "                c_var_2 = c_args[1]\n",
    "            else:\n",
    "                c_var_2 = c_args[0]\n",
    "            if c_var_2 in assignment:\n",
    "                if not c.subs({var:value, c_var_2:assignment[c_var_2]}):\n",
    "                    return False\n",
    "        return True\n",
    "        \n",
    "       \n",
    "        \n",
    "        \n",
    "    def inference(self, var, value):\n",
    "        \"\"\"Perform logical inference based on proposed variable assignment\n",
    "        \n",
    "        Returns an empty dictionary by default; function can be overridden to\n",
    "        check arc-, path-, or k-consistency; returning None signals \"failure\".\n",
    "        \n",
    "        Parameters\n",
    "        ----------\n",
    "        var : sympy.Symbol\n",
    "            One of the symbolic variables in the CSP\n",
    "        \n",
    "        value : Integer\n",
    "            A valid value (i.e., in the domain of) the variable `var` for assignment\n",
    "            \n",
    "        Returns\n",
    "        -------\n",
    "        dict(sympy.Symbol: Integer) or None\n",
    "            A partial set of values mapped to variables in the CSP based on inferred\n",
    "            constraints from previous mappings, or None to indicate failure\n",
    "        \"\"\"\n",
    "        def MAC(csp,var, unassigned_neighbours):\n",
    "            q = unassigned_neighbours\n",
    "            \n",
    "            while q:\n",
    "                xj = q.pop()\n",
    "                if revise(csp, var, xj):\n",
    "                    if len(csp.domains[var]) == 0:\n",
    "                        return False\n",
    "                    for xk in unassigned_neighbours - {xj}:\n",
    "                        q.add(xk)\n",
    "            return True\n",
    "        \n",
    "        def revise(csp, xi,xj):\n",
    "            revised = False\n",
    "            to_delete = set()\n",
    "            for x in csp.domains[xi]:\n",
    "                satisfied = False\n",
    "                for y in csp.domains[xj]:\n",
    "                    for c in self._constraints[xi]:\n",
    "                        if xj in c.args:\n",
    "                            satisfied = c.subs({xi:x, xj:y})\n",
    "                if not satisfied:\n",
    "                    to_delete.add(x)\n",
    "                    #csp.domains[xi].remove(x) \n",
    "                    revised = True\n",
    "            csp.domains[xi] -= to_delete\n",
    "            return revised\n",
    "        \n",
    "        unassigned_neigbours = set()\n",
    "        for c in self._constraints[var]:\n",
    "            c_args = c.args\n",
    "            if c_args[0] == var:\n",
    "                neighbour = c_args[1]\n",
    "            else:\n",
    "                neighbour = c_args[0]\n",
    "            if len(self.domains[neighbour]) > 1:\n",
    "                unassigned_neigbours.add(neighbour)\n",
    "                \n",
    "        if MAC(self, var, unassigned_neigbours):\n",
    "            assignment = {}\n",
    "            for v in self.variables:\n",
    "                if len(self.domains[v]) == 1:\n",
    "                    assignment[v] == min(self.domains[v]) # get value from singleton set w/out removing it\n",
    "            return assignment\n",
    "        return None\n",
    "#         return {}\n",
    "    \n",
    "    def show(self, assignment):\n",
    "        \"\"\"Display a chessboard with queens drawn in the locations specified by an\n",
    "        assignment\n",
    "        \n",
    "        Parameters\n",
    "        ----------\n",
    "        assignment : dict(sympy.Symbol: Integer)\n",
    "            A dictionary mapping CSP variables to row assignment of each queen\n",
    "            \n",
    "        \"\"\"\n",
    "        locations = [(i, assignment[j]) for i, j in enumerate(self.variables)\n",
    "                     if assignment.get(j, None) is not None]\n",
    "        displayBoard(locations, self.size)"
   ]
  },
  {
   "cell_type": "code",
   "execution_count": null,
   "metadata": {
    "collapsed": true
   },
   "outputs": [],
   "source": []
  },
  {
   "cell_type": "markdown",
   "metadata": {
    "collapsed": true,
    "deletable": true,
    "editable": true
   },
   "source": [
    "## III. Backtracking Search\n",
    "Implement the [backtracking search](https://github.com/aimacode/aima-pseudocode/blob/master/md/Backtracking-Search.md) algorithm (required) and helper functions (optional) from the AIMA text.  "
   ]
  },
  {
   "cell_type": "code",
   "execution_count": 81,
   "metadata": {
    "collapsed": true,
    "deletable": true,
    "editable": true
   },
   "outputs": [],
   "source": [
    "def select(csp, assignment):\n",
    "    \"\"\"Choose an unassigned variable in a constraint satisfaction problem \"\"\"\n",
    "    # TODO (Optional): Implement a more sophisticated selection routine from AIMA\n",
    "    for var in csp.variables:\n",
    "        if var not in assignment:\n",
    "            return var\n",
    "    return None\n",
    "\n",
    "def order_values(var, assignment, csp):\n",
    "    \"\"\"Select the order of the values in the domain of a variable for checking during search;\n",
    "    the default is lexicographically.\n",
    "    \"\"\"\n",
    "    # TODO (Optional): Implement a more sophisticated search ordering routine from AIMA\n",
    "    return csp.domains[var]\n",
    "\n",
    "def backtracking_search(csp):\n",
    "    \"\"\"Helper function used to initiate backtracking search \"\"\"\n",
    "    return backtrack({}, csp)\n",
    "\n",
    "def backtrack(assignment, csp):\n",
    "    \"\"\"Perform backtracking search for a valid assignment to a CSP\n",
    "    \n",
    "    Parameters\n",
    "    ----------\n",
    "    assignment : dict(sympy.Symbol: Integer)\n",
    "        An partial set of values mapped to variables in the CSP\n",
    "        \n",
    "    csp : CSP\n",
    "        A problem encoded as a CSP. Interface should include csp.variables, csp.domains,\n",
    "        csp.inference(), csp.is_consistent(), and csp.is_complete().\n",
    "    \n",
    "    Returns\n",
    "    -------\n",
    "    dict(sympy.Symbol: Integer) or None\n",
    "        A partial set of values mapped to variables in the CSP, or None to indicate failure\n",
    "    \"\"\"\n",
    "    #raise NotImplementedError(\"TODO: complete the backtrack function\")\n",
    "    if csp.is_complete(assignment):\n",
    "        return assignment\n",
    "    var = select(csp, assignment)\n",
    "    values = order_values(var, assignment, csp).copy()\n",
    "    for val in values:\n",
    "#         print(values)\n",
    "        if csp.is_consistent(var, val, assignment):\n",
    "            assignment[var] = val\n",
    "            #result = backtrack(assignment, csp) # remove after implementing inferences\n",
    "            inferences = csp.inference(var, val)\n",
    "            print(inferences)\n",
    "            if inferences:\n",
    "                for _var, _val in inferences.items():\n",
    "                    assignment[_var] = _val\n",
    "                result = backtrack(inferences,csp)\n",
    "                if result:\n",
    "                    return result\n",
    "            #if result:# remove after implementing inferences\n",
    "                #return result# remove after implementing inferences\n",
    "            del assignment[var]\n",
    "    return None\n",
    "        \n",
    "                \n",
    "                "
   ]
  },
  {
   "cell_type": "markdown",
   "metadata": {
    "deletable": true,
    "editable": true
   },
   "source": [
    "### Solve the CSP\n",
    "With backtracking implemented, now you can use it to solve instances of the problem. We've started with the classical 8-queen version, but you can try other sizes as well.  Boards larger than 12x12 may take some time to solve because sympy is slow in the way its being used here, and because the selection and value ordering methods haven't been implemented.  See if you can implement any of the techniques in the AIMA text to speed up the solver!"
   ]
  },
  {
   "cell_type": "code",
   "execution_count": 82,
   "metadata": {
    "collapsed": false,
    "deletable": true,
    "editable": true,
    "scrolled": false
   },
   "outputs": [
    {
     "name": "stdout",
     "output_type": "stream",
     "text": [
      "CSP problems have variables, each variable has a domain, and the problem has a list of constraints.\n",
      "Showing the variables for the N-Queens CSP:\n"
     ]
    },
    {
     "data": {
      "image/png": "[encoded data removed]",
      "text/latex": [
       "$$\\left ( y_{0}, \\quad y_{1}, \\quad y_{2}, \\quad y_{3}, \\quad y_{4}, \\quad y_{5}, \\quad y_{6}, \\quad y_{7}\\right )$$"
      ],
      "text/plain": [
       "(y₀, y₁, y₂, y₃, y₄, y₅, y₆, y₇)"
      ]
     },
     "metadata": {},
     "output_type": "display_data"
    },
    {
     "name": "stdout",
     "output_type": "stream",
     "text": [
      "Showing domain for y0:\n"
     ]
    },
    {
     "data": {
      "image/png": "[encoded data removed]",
      "text/latex": [
       "$$\\left\\{0, 1, 2, 3, 4, 5, 6, 7\\right\\}$$"
      ],
      "text/plain": [
       "set([0, 1, 2, 3, 4, 5, 6, 7])"
      ]
     },
     "metadata": {},
     "output_type": "display_data"
    },
    {
     "name": "stdout",
     "output_type": "stream",
     "text": [
      "And showing the constraints for y0:\n"
     ]
    },
    {
     "data": {
      "image/png": "[encoded data removed]",
      "text/latex": [
       "$$\\left\\{\\operatorname{diffDiag}{\\left (y_{0},y_{3} \\right )}, \\operatorname{diffDiag}{\\left (y_{0},y_{7} \\right )}, \\operatorname{diffDiag}{\\left (y_{1},y_{0} \\right )}, \\operatorname{diffDiag}{\\left (y_{2},y_{0} \\right )}, \\operatorname{diffDiag}{\\left (y_{4},y_{0} \\right )}, \\operatorname{diffDiag}{\\left (y_{5},y_{0} \\right )}, \\operatorname{diffDiag}{\\left (y_{6},y_{0} \\right )}, \\operatorname{diffRow}{\\left (y_{0},y_{3} \\right )}, \\operatorname{diffRow}{\\left (y_{0},y_{7} \\right )}, \\operatorname{diffRow}{\\left (y_{1},y_{0} \\right )}, \\operatorname{diffRow}{\\left (y_{2},y_{0} \\right )}, \\operatorname{diffRow}{\\left (y_{4},y_{0} \\right )}, \\operatorname{diffRow}{\\left (y_{5},y_{0} \\right )}, \\operatorname{diffRow}{\\left (y_{6},y_{0} \\right )}\\right\\}$$"
      ],
      "text/plain": [
       "set([diffDiag(y₀, y₃), diffDiag(y₀, y₇), diffDiag(y₁, y₀), diffDiag(y₂, y₀), d\n",
       "iffDiag(y₄, y₀), diffDiag(y₅, y₀), diffDiag(y₆, y₀), diffRow(y₀, y₃), diffRow(\n",
       "y₀, y₇), diffRow(y₁, y₀), diffRow(y₂, y₀), diffRow(y₄, y₀), diffRow(y₅, y₀), d\n",
       "iffRow(y₆, y₀)])"
      ]
     },
     "metadata": {},
     "output_type": "display_data"
    },
    {
     "name": "stdout",
     "output_type": "stream",
     "text": [
      "Solving N-Queens CSP...\n",
      "{y0: {0, 1}, y1: {0, 1}, y2: {0, 1}, y3: {0, 1}, y4: {0, 1}, y5: {0, 1}, y6: {0, 1}, y7: {0, 1}}\n",
      "{y0: {0, 1}, y1: {0, 1}, y2: {0, 1}, y3: {0, 1}, y4: {0, 1}, y5: {0, 1}, y6: {0, 1}, y7: {0, 1}}\n"
     ]
    },
    {
     "ename": "KeyError",
     "evalue": "None",
     "output_type": "error",
     "traceback": [
      "\u001b[1;31m---------------------------------------------------------------------------\u001b[0m",
      "\u001b[1;31mKeyError\u001b[0m                                  Traceback (most recent call last)",
      "\u001b[1;32m<ipython-input-82-7cd8a6da06a6>\u001b[0m in \u001b[0;36m<module>\u001b[1;34m()\u001b[0m\n\u001b[0;32m     11\u001b[0m \u001b[1;33m\u001b[0m\u001b[0m\n\u001b[0;32m     12\u001b[0m \u001b[0mprint\u001b[0m\u001b[1;33m(\u001b[0m\u001b[1;34m\"Solving N-Queens CSP...\"\u001b[0m\u001b[1;33m)\u001b[0m\u001b[1;33m\u001b[0m\u001b[0m\n\u001b[1;32m---> 13\u001b[1;33m \u001b[0massn\u001b[0m \u001b[1;33m=\u001b[0m \u001b[0mbacktracking_search\u001b[0m\u001b[1;33m(\u001b[0m\u001b[0mcsp\u001b[0m\u001b[1;33m)\u001b[0m\u001b[1;33m\u001b[0m\u001b[0m\n\u001b[0m\u001b[0;32m     14\u001b[0m \u001b[1;32mif\u001b[0m \u001b[0massn\u001b[0m \u001b[1;32mis\u001b[0m \u001b[1;32mnot\u001b[0m \u001b[1;32mNone\u001b[0m\u001b[1;33m:\u001b[0m\u001b[1;33m\u001b[0m\u001b[0m\n\u001b[0;32m     15\u001b[0m     \u001b[0mcsp\u001b[0m\u001b[1;33m.\u001b[0m\u001b[0mshow\u001b[0m\u001b[1;33m(\u001b[0m\u001b[0massn\u001b[0m\u001b[1;33m)\u001b[0m\u001b[1;33m\u001b[0m\u001b[0m\n",
      "\u001b[1;32m<ipython-input-81-e3b13fec1dea>\u001b[0m in \u001b[0;36mbacktracking_search\u001b[1;34m(csp)\u001b[0m\n\u001b[0;32m     16\u001b[0m \u001b[1;32mdef\u001b[0m \u001b[0mbacktracking_search\u001b[0m\u001b[1;33m(\u001b[0m\u001b[0mcsp\u001b[0m\u001b[1;33m)\u001b[0m\u001b[1;33m:\u001b[0m\u001b[1;33m\u001b[0m\u001b[0m\n\u001b[0;32m     17\u001b[0m     \u001b[1;34m\"\"\"Helper function used to initiate backtracking search \"\"\"\u001b[0m\u001b[1;33m\u001b[0m\u001b[0m\n\u001b[1;32m---> 18\u001b[1;33m     \u001b[1;32mreturn\u001b[0m \u001b[0mbacktrack\u001b[0m\u001b[1;33m(\u001b[0m\u001b[1;33m{\u001b[0m\u001b[1;33m}\u001b[0m\u001b[1;33m,\u001b[0m \u001b[0mcsp\u001b[0m\u001b[1;33m)\u001b[0m\u001b[1;33m\u001b[0m\u001b[0m\n\u001b[0m\u001b[0;32m     19\u001b[0m \u001b[1;33m\u001b[0m\u001b[0m\n\u001b[0;32m     20\u001b[0m \u001b[1;32mdef\u001b[0m \u001b[0mbacktrack\u001b[0m\u001b[1;33m(\u001b[0m\u001b[0massignment\u001b[0m\u001b[1;33m,\u001b[0m \u001b[0mcsp\u001b[0m\u001b[1;33m)\u001b[0m\u001b[1;33m:\u001b[0m\u001b[1;33m\u001b[0m\u001b[0m\n",
      "\u001b[1;32m<ipython-input-81-e3b13fec1dea>\u001b[0m in \u001b[0;36mbacktrack\u001b[1;34m(assignment, csp)\u001b[0m\n\u001b[0;32m     50\u001b[0m                 \u001b[1;32mfor\u001b[0m \u001b[0m_var\u001b[0m\u001b[1;33m,\u001b[0m \u001b[0m_val\u001b[0m \u001b[1;32min\u001b[0m \u001b[0minferences\u001b[0m\u001b[1;33m.\u001b[0m\u001b[0mitems\u001b[0m\u001b[1;33m(\u001b[0m\u001b[1;33m)\u001b[0m\u001b[1;33m:\u001b[0m\u001b[1;33m\u001b[0m\u001b[0m\n\u001b[0;32m     51\u001b[0m                     \u001b[0massignment\u001b[0m\u001b[1;33m[\u001b[0m\u001b[0m_var\u001b[0m\u001b[1;33m]\u001b[0m \u001b[1;33m=\u001b[0m \u001b[0m_val\u001b[0m\u001b[1;33m\u001b[0m\u001b[0m\n\u001b[1;32m---> 52\u001b[1;33m                 \u001b[0mresult\u001b[0m \u001b[1;33m=\u001b[0m \u001b[0mbacktrack\u001b[0m\u001b[1;33m(\u001b[0m\u001b[0minferences\u001b[0m\u001b[1;33m,\u001b[0m\u001b[0mcsp\u001b[0m\u001b[1;33m)\u001b[0m\u001b[1;33m\u001b[0m\u001b[0m\n\u001b[0m\u001b[0;32m     53\u001b[0m                 \u001b[1;32mif\u001b[0m \u001b[0mresult\u001b[0m\u001b[1;33m:\u001b[0m\u001b[1;33m\u001b[0m\u001b[0m\n\u001b[0;32m     54\u001b[0m                     \u001b[1;32mreturn\u001b[0m \u001b[0mresult\u001b[0m\u001b[1;33m\u001b[0m\u001b[0m\n",
      "\u001b[1;32m<ipython-input-81-e3b13fec1dea>\u001b[0m in \u001b[0;36mbacktrack\u001b[1;34m(assignment, csp)\u001b[0m\n\u001b[0;32m     39\u001b[0m         \u001b[1;32mreturn\u001b[0m \u001b[0massignment\u001b[0m\u001b[1;33m\u001b[0m\u001b[0m\n\u001b[0;32m     40\u001b[0m     \u001b[0mvar\u001b[0m \u001b[1;33m=\u001b[0m \u001b[0mselect\u001b[0m\u001b[1;33m(\u001b[0m\u001b[0mcsp\u001b[0m\u001b[1;33m,\u001b[0m \u001b[0massignment\u001b[0m\u001b[1;33m)\u001b[0m\u001b[1;33m\u001b[0m\u001b[0m\n\u001b[1;32m---> 41\u001b[1;33m     \u001b[0mvalues\u001b[0m \u001b[1;33m=\u001b[0m \u001b[0morder_values\u001b[0m\u001b[1;33m(\u001b[0m\u001b[0mvar\u001b[0m\u001b[1;33m,\u001b[0m \u001b[0massignment\u001b[0m\u001b[1;33m,\u001b[0m \u001b[0mcsp\u001b[0m\u001b[1;33m)\u001b[0m\u001b[1;33m.\u001b[0m\u001b[0mcopy\u001b[0m\u001b[1;33m(\u001b[0m\u001b[1;33m)\u001b[0m\u001b[1;33m\u001b[0m\u001b[0m\n\u001b[0m\u001b[0;32m     42\u001b[0m     \u001b[1;32mfor\u001b[0m \u001b[0mval\u001b[0m \u001b[1;32min\u001b[0m \u001b[0mvalues\u001b[0m\u001b[1;33m:\u001b[0m\u001b[1;33m\u001b[0m\u001b[0m\n\u001b[0;32m     43\u001b[0m \u001b[1;31m#         print(values)\u001b[0m\u001b[1;33m\u001b[0m\u001b[1;33m\u001b[0m\u001b[0m\n",
      "\u001b[1;32m<ipython-input-81-e3b13fec1dea>\u001b[0m in \u001b[0;36morder_values\u001b[1;34m(var, assignment, csp)\u001b[0m\n\u001b[0;32m     12\u001b[0m     \"\"\"\n\u001b[0;32m     13\u001b[0m     \u001b[1;31m# TODO (Optional): Implement a more sophisticated search ordering routine from AIMA\u001b[0m\u001b[1;33m\u001b[0m\u001b[1;33m\u001b[0m\u001b[0m\n\u001b[1;32m---> 14\u001b[1;33m     \u001b[1;32mreturn\u001b[0m \u001b[0mcsp\u001b[0m\u001b[1;33m.\u001b[0m\u001b[0mdomains\u001b[0m\u001b[1;33m[\u001b[0m\u001b[0mvar\u001b[0m\u001b[1;33m]\u001b[0m\u001b[1;33m\u001b[0m\u001b[0m\n\u001b[0m\u001b[0;32m     15\u001b[0m \u001b[1;33m\u001b[0m\u001b[0m\n\u001b[0;32m     16\u001b[0m \u001b[1;32mdef\u001b[0m \u001b[0mbacktracking_search\u001b[0m\u001b[1;33m(\u001b[0m\u001b[0mcsp\u001b[0m\u001b[1;33m)\u001b[0m\u001b[1;33m:\u001b[0m\u001b[1;33m\u001b[0m\u001b[0m\n",
      "\u001b[1;31mKeyError\u001b[0m: None"
     ]
    }
   ],
   "source": [
    "num_queens = 8\n",
    "csp = NQueensCSP(num_queens)\n",
    "var = csp.variables[0]\n",
    "print(\"CSP problems have variables, each variable has a domain, and the problem has a list of constraints.\")\n",
    "print(\"Showing the variables for the N-Queens CSP:\")\n",
    "display(csp.variables)\n",
    "print(\"Showing domain for {}:\".format(var))\n",
    "display(csp.domains[var])\n",
    "print(\"And showing the constraints for {}:\".format(var))\n",
    "display(csp._constraints[var])\n",
    "\n",
    "print(\"Solving N-Queens CSP...\")\n",
    "assn = backtracking_search(csp)\n",
    "if assn is not None:\n",
    "    csp.show(assn)\n",
    "    print(\"Solution found:\\n{!s}\".format(assn))\n",
    "else:\n",
    "    print(\"No solution found.\")"
   ]
  },
  {
   "cell_type": "markdown",
   "metadata": {
    "deletable": true,
    "editable": true
   },
   "source": [
    "## IV. Experiments (Optional)\n",
    "For each optional experiment, discuss the answers to these questions on the forum: Do you expect this change to be more efficient, less efficient, or the same?  Why or why not?  Is your prediction correct?  What metric did you compare (e.g., time, space, nodes visited, etc.)?\n",
    "\n",
    "- Implement a _bad_ N-queens solver: generate & test candidate solutions one at a time until a valid solution is found.  For example, represent the board as an array with $N^2$ elements, and let each element be True if there is a queen in that box, and False if it is empty.  Use an $N^2$-bit counter to generate solutions, then write a function to check if each solution is valid.  Notice that this solution doesn't require any of the techniques we've applied to other problems -- there is no DFS or backtracking, nor constraint propagation, or even explicitly defined variables.\n",
    "- Use more complex constraints -- i.e., generalize the binary constraint RowDiff to an N-ary constraint AllRowsDiff, etc., -- and solve the problem again.\n",
    "- Rewrite the CSP class to use forward checking to restrict the domain of each variable as new values are assigned.\n",
    "- The sympy library isn't very fast, so this version of the CSP doesn't work well on boards bigger than about 12x12.  Write a new representation of the problem class that uses constraint functions (like the Sudoku project) to implicitly track constraint satisfaction through the restricted domain of each variable.  How much larger can you solve?\n",
    "- Create your own CSP!"
   ]
  },
  {
   "cell_type": "code",
   "execution_count": null,
   "metadata": {
    "collapsed": true,
    "deletable": true,
    "editable": true
   },
   "outputs": [],
   "source": []
  }
 ],
 "metadata": {
  "anaconda-cloud": {},
  "kernelspec": {
   "display_name": "Python [conda env:aind]",
   "language": "python",
   "name": "conda-env-aind-py"
  },
  "language_info": {
   "codemirror_mode": {
    "name": "ipython",
    "version": 3
   },
   "file_extension": ".py",
   "mimetype": "text/x-python",
   "name": "python",
   "nbconvert_exporter": "python",
   "pygments_lexer": "ipython3",
   "version": "3.6.0"
  }
 },
 "nbformat": 4,
 "nbformat_minor": 1
}
