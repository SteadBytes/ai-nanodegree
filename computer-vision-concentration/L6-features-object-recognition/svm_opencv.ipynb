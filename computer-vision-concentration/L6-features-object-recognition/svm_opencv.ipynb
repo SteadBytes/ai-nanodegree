{
 "cells": [
  {
   "cell_type": "markdown",
   "metadata": {
    "deletable": true,
    "editable": true
   },
   "source": [
    "# Support Vector Machines in OpenCV\n",
    "\n",
    "Aim: build an Optical Character Recognition (OCR) classifier to recognize handwritten digits.\n",
    "\n",
    "The training data is sourced from a large image containing 5000 20x20 grayscale samples with a black background:\n",
    "\n",
    "![](images/digits.png)"
   ]
  },
  {
   "cell_type": "code",
   "execution_count": 1,
   "metadata": {
    "collapsed": false,
    "deletable": true,
    "editable": true
   },
   "outputs": [],
   "source": [
    "import numpy as np\n",
    "import matplotlib.pyplot as plt\n",
    "import cv2\n",
    "\n",
    "%matplotlib inline\n",
    "\n",
    "image = cv2.imread('images/digits.png', 0)"
   ]
  },
  {
   "cell_type": "markdown",
   "metadata": {
    "deletable": true,
    "editable": true
   },
   "source": [
    "## Split Input Image into Datasets"
   ]
  },
  {
   "cell_type": "code",
   "execution_count": 2,
   "metadata": {
    "collapsed": false,
    "deletable": true,
    "editable": true
   },
   "outputs": [
    {
     "data": {
      "text/plain": [
       "<matplotlib.image.AxesImage at 0x1cc263471d0>"
      ]
     },
     "execution_count": 2,
     "metadata": {},
     "output_type": "execute_result"
    },
    {
     "data": {
      "image/png": "[encoded data removed]",
      "text/plain": [
       "<Figure size 432x288 with 1 Axes>"
      ]
     },
     "metadata": {},
     "output_type": "display_data"
    }
   ],
   "source": [
    "# 100 examples of each 20x20 image\n",
    "cells = [np.hsplit(row, 100) for row in np.vsplit(image, 50)]\n",
    "# show first example of 0 digit\n",
    "plt.imshow(cells[0][0], cmap='gray')"
   ]
  },
  {
   "cell_type": "code",
   "execution_count": 3,
   "metadata": {
    "collapsed": true,
    "deletable": true,
    "editable": true
   },
   "outputs": [],
   "source": [
    "train_cells = [i[:50] for i in cells]\n",
    "test_cells = [i[50:] for i in cells]"
   ]
  },
  {
   "cell_type": "markdown",
   "metadata": {
    "deletable": true,
    "editable": true
   },
   "source": [
    "## Deskew Images\n",
    "Many digits are written at an angle (skewed), aligning them prior to training produces more consistent results.\n",
    "\n",
    "![](images/deskew.png)\n",
    "\n",
    "The skew of grayscale images can be measure using the ratio of the two central image moments.\n",
    "\n",
    "An affine transformation can then be calculated to deskew the image"
   ]
  },
  {
   "cell_type": "code",
   "execution_count": 18,
   "metadata": {
    "collapsed": false,
    "deletable": true,
    "editable": true
   },
   "outputs": [
    {
     "data": {
      "text/plain": [
       "<matplotlib.image.AxesImage at 0x1cc27ad3978>"
      ]
     },
     "execution_count": 18,
     "metadata": {},
     "output_type": "execute_result"
    },
    {
     "data": {
      "image/png": "[encoded data removed]",
      "text/plain": [
       "<Figure size 720x720 with 2 Axes>"
      ]
     },
     "metadata": {},
     "output_type": "display_data"
    }
   ],
   "source": [
    "image_size = 20\n",
    "\n",
    "def deskew_image(image, skew_threshold=1e-2):\n",
    "    m = cv2.moments(image)\n",
    "    if abs(m['mu02']) < skew_threshold:\n",
    "        return image.copy()\n",
    "    # skew based on central momemts\n",
    "    skew = m['mu11']/m['mu02']\n",
    "    # affine transform to correct skewness. \n",
    "    M = np.float32([[1, skew, -0.5*image_size*skew], [0, 1, 0]])\n",
    "    # apply affine transform\n",
    "    image = cv2.warpAffine(image, M, (image_size, image_size), flags=cv2.WARP_INVERSE_MAP| cv2.INTER_LINEAR)\n",
    "    return image\n",
    "\n",
    "deskewed = [list(map(deskew_image, row)) for row in train_cells]\n",
    "\n",
    "# plot first cell as example\n",
    "f, (ax1, ax2) = plt.subplots(1, 2,figsize=(10,10))\n",
    "ax1.set_title('Input Image')\n",
    "ax1.imshow(train_cells[0][0], cmap='gray')\n",
    "ax2.set_title('Deskewed Image')\n",
    "ax2.imshow(deskewed[0][0], cmap='gray')"
   ]
  },
  {
   "cell_type": "markdown",
   "metadata": {
    "deletable": true,
    "editable": true
   },
   "source": [
    "## Compute Feature Vectors using Histogram of Oriented Gradients"
   ]
  },
  {
   "cell_type": "code",
   "execution_count": 43,
   "metadata": {
    "collapsed": false,
    "deletable": true,
    "editable": true
   },
   "outputs": [],
   "source": [
    "def block_array(arr, nrows, ncols):\n",
    "    \"\"\"\n",
    "    Return an array of shape (n, nrows, ncols) where\n",
    "    n * nrows * ncols = arr.size\n",
    "\n",
    "    If arr is a 2D array, the returned array should look like n subblocks with\n",
    "    each subblock preserving the \"physical\" layout of arr.\n",
    "    \"\"\"\n",
    "    h, w = arr.shape\n",
    "    return (arr.reshape(h//nrows, nrows, -1, ncols)\n",
    "               .swapaxes(1,2)\n",
    "               .reshape(-1, nrows, ncols))\n",
    "n_bins = 16 \n",
    "n_blocks = 4 # must be power of 2 to split image evenly\n",
    "\n",
    "def hog(img):\n",
    "    #set_trace()\n",
    "    gx = cv2.Sobel(img, cv2.CV_32F, 1, 0)\n",
    "    gy = cv2.Sobel(img, cv2.CV_32F, 0, 1)\n",
    "    mag, ang = cv2.cartToPolar(gx, gy)\n",
    "    # quantizing binvalues in (0...n_bins)\n",
    "    bins = np.int32(n_bins*ang/(2*np.pi))    \n",
    "    \n",
    "    # Divide to n_blocks sub-squares\n",
    "    block_size = int(img.shape[0]/(n_blocks/2))\n",
    "    bin_cells = block_array(bins, block_size, block_size)\n",
    "    mag_cells = block_array(mag, block_size, block_size)\n",
    "    # calculate histogram weighted by direction\n",
    "    hists = [np.bincount(b.ravel(), m.ravel(), n_bins) for b, m in zip(bin_cells, mag_cells)]\n",
    "    # hist is a n_bins*n_blocks bit vector\n",
    "    hist = np.hstack(hists)\n",
    "    return hist\n",
    "\n",
    "hog_features = [list(map(hog, row)) for row in deskewed]"
   ]
  },
  {
   "cell_type": "markdown",
   "metadata": {
    "deletable": true,
    "editable": true
   },
   "source": [
    "## Build Labels\n",
    "Input image contains 500 samples each of the digits 0-10. The training data contains **half** these samples. The training data order is the same as the original image, so labels need to be 250 each of the digits 0-10 in order:\n",
    "* i.e. indexes 0->249 = 0.0, 250->499 = 1.0 etc\n",
    "\n",
    "OpenCv SVM requires labels in a 2D array, so labels array should have shape `(2500, 1)`"
   ]
  },
  {
   "cell_type": "code",
   "execution_count": 37,
   "metadata": {
    "collapsed": false,
    "deletable": true,
    "editable": true
   },
   "outputs": [],
   "source": [
    "label_values = np.int32(np.repeat(np.arange(10), 250))\n",
    "# add extra axis to make 2D array\n",
    "labels = label_values[:, np.newaxis]"
   ]
  },
  {
   "cell_type": "markdown",
   "metadata": {
    "deletable": true,
    "editable": true
   },
   "source": [
    "## Train SVM"
   ]
  },
  {
   "cell_type": "code",
   "execution_count": 38,
   "metadata": {
    "collapsed": false,
    "deletable": true,
    "editable": true
   },
   "outputs": [],
   "source": [
    "# svm takes np array of float32 as input\n",
    "train_data = np.float32(hog_features).reshape(-1, 64)\n",
    "# Initialize the SVM\n",
    "svm = cv2.ml.SVM_create()\n",
    "svm.setKernel(cv2.ml.SVM_LINEAR)\n",
    "svm.setType(cv2.ml.SVM_C_SVC)\n",
    "svm.setC(2.67)\n",
    "svm.setGamma(5.383)\n",
    "\n",
    "svm.train(train_data,cv2.ml.ROW_SAMPLE, labels)\n",
    "svm.save('data/svm_digits_data.dat')"
   ]
  },
  {
   "cell_type": "markdown",
   "metadata": {
    "deletable": true,
    "editable": true
   },
   "source": [
    "## Test SVM"
   ]
  },
  {
   "cell_type": "code",
   "execution_count": 40,
   "metadata": {
    "collapsed": false,
    "deletable": true,
    "editable": true
   },
   "outputs": [],
   "source": [
    "deskewed = [list(map(deskew_image, row)) for row in test_cells]\n",
    "hog_features = [list(map(hog, row)) for row in deskewed]\n",
    "test_data = np.float32(hog_features).reshape(-1,n_bins*4)\n",
    "result = svm.predict(test_data)[1]"
   ]
  },
  {
   "cell_type": "code",
   "execution_count": 42,
   "metadata": {
    "collapsed": false,
    "deletable": true,
    "editable": true
   },
   "outputs": [
    {
     "name": "stdout",
     "output_type": "stream",
     "text": [
      "93.8\n"
     ]
    }
   ],
   "source": [
    "mask = result==labels\n",
    "correct = np.count_nonzero(mask)\n",
    "print(correct*100.0/result.size)"
   ]
  },
  {
   "cell_type": "code",
   "execution_count": null,
   "metadata": {
    "collapsed": true,
    "deletable": true,
    "editable": true
   },
   "outputs": [],
   "source": []
  }
 ],
 "metadata": {
  "anaconda-cloud": {},
  "kernelspec": {
   "display_name": "Python [conda env:dog-project]",
   "language": "python",
   "name": "conda-env-dog-project-py"
  },
  "language_info": {
   "codemirror_mode": {
    "name": "ipython",
    "version": 3
   },
   "file_extension": ".py",
   "mimetype": "text/x-python",
   "name": "python",
   "nbconvert_exporter": "python",
   "pygments_lexer": "ipython3",
   "version": "3.5.3"
  }
 },
 "nbformat": 4,
 "nbformat_minor": 2
}
