{
 "cells": [
  {
   "cell_type": "markdown",
   "metadata": {
    "deletable": true,
    "editable": true
   },
   "source": [
    "# Simple Vanilla RNN Implementation\n",
    "\n",
    "Build vanilla RNN using Tensorflow that takes a binary sequence X and predict a binary sequence Y.\n",
    "\n",
    "## Data\n",
    "Input X and output Y are binary sequences.\n",
    "### Input Sequence (X)\n",
    "* 50% chance of X<sub>t</sub> being 1 at time step *t*\n",
    "### Output Sequence (Y)\n",
    "* Each time step *t*:\n",
    "    * Y<sub>t</sub> has a 50% *base* chance of being 1\n",
    "    * If X<sub>t-3</sub>=1, Y<sub>t</sub> chance of being 1 increases 50% (i.e to 100%)\n",
    "    * If X<sub>t-8</sub>=1, Y<sub>t</sub> chance of being 1 decreases 25% (i.e to 25%)\n",
    "    * If X<sub>t-3</sub>=1 **and** X<sub>t-8</sub>=1, Y<sub>t</sub> chance of being 1 = 50%+50%-25%=75%\n",
    "\n",
    "## Model Architecture\n",
    "At each time step *t*:\n",
    "* Inputs: a **one-hot** binary X<sub>t</sub> vector and a previous state vector S<sub>t-1</sub>\n",
    "* Outputs: State vector S<sub>t</sub> and a predicted probability distributino vector P<sub>t</sub> for then one-hot binary vector Y<sub>t</sub> \n",
    "\n",
    "### Formal Definitions\n",
    "* S<sub>t</sub> = tanh(W(X<sub>t</sub>@S<sub>t-1</sub>)+b<sub>s</sub>)\n",
    "* P<sub>t</sub> = softmax(US<sub>t</sub> + b<sub>p</sub>)\n",
    "\n",
    "Where:\n",
    "* @ represents vector *concatenation*\n",
    "* X<sub>t</sub> is a one-hot binary vector\n",
    "\n",
    "## Tensorflow Graph\n",
    "* *n* units (time steps) wide\n",
    "    * Truncated Backpropagation\n",
    "    * Split data into size *n* sequences and feed through network separately\n",
    "* Each unit is a duplicate -> sharing same variables\n",
    "* Represent duplicate tensors as a **list of tensors**\n",
    "    * rnn inputs, rnn outputs (hidden state), predictions and loss\n",
    "    \n",
    "![rnn_architecture](./jupyter-assets/BasicRNNLabeled.png)\n",
    "\n",
    "## Code Outline\n",
    "* Generate Sequence Data\n",
    "    * Produce X and Y arrays according to the rules above\n",
    "* Batch the data\n",
    "    * Set a `batch_size`\n",
    "    * Split X and Y into `batch_size` length sequences:\n",
    "        * Vertically stacked data matrix\n",
    "        * Shape example:\n",
    "        ```Python\n",
    "        X = [1,2,3,4,5,6,7,8,9,10]\n",
    "        batch_size = 2\n",
    "        # 5 batches, size two\n",
    "        X_batches = [[1,2,3,4,5],\n",
    "                     [6,7,8,9,10],]\n",
    "        # first batch = [1, 6], second batch = [2,7] etc\n",
    "        \n",
    "        ```\n",
    "    * Further partition into `n` units for truncated backpropagation\n",
    "    \n",
    "* Create Model\n",
    "* Train Model"
   ]
  },
  {
   "cell_type": "code",
   "execution_count": 2,
   "metadata": {
    "collapsed": true,
    "deletable": true,
    "editable": true
   },
   "outputs": [],
   "source": [
    "import numpy as np\n",
    "import tensorflow as tf\n",
    "\n",
    "batch_size = 200\n",
    "truncate_steps = 7\n"
   ]
  },
  {
   "cell_type": "code",
   "execution_count": 36,
   "metadata": {
    "collapsed": false,
    "deletable": true,
    "editable": true
   },
   "outputs": [],
   "source": [
    "def gen_data(size=1000000):\n",
    "    X = np.random.choice(2, size=(size,))\n",
    "    Y = []\n",
    "    for i in range(size):\n",
    "        p = 0.5\n",
    "        if X[i-3] == 1:\n",
    "            p += 0.5\n",
    "        if X[i-8] == 1:\n",
    "            p -= 0.25\n",
    "        if np.random.rand() > p:\n",
    "            Y.append(1)\n",
    "        else:\n",
    "            Y.append(0)\n",
    "    return X, np.array(Y)\n",
    "data = gen_data()"
   ]
  },
  {
   "cell_type": "code",
   "execution_count": 44,
   "metadata": {
    "collapsed": false
   },
   "outputs": [],
   "source": [
    "def batch_data_gen(data, batch_size, truncate_steps):\n",
    "    X, Y = data\n",
    "    data_len = len(X)\n",
    "\n",
    "    num_batches = data_len // batch_size\n",
    "    X_batch = np.zeros([batch_size, num_batches], dtype=np.int32)\n",
    "    Y_batch = np.zeros([batch_size, num_batches], dtype=np.int32)\n",
    "    for i in range(batch_size):\n",
    "        X_batch[i] = X[num_batches * i: num_batches * (i+1)]\n",
    "        Y_batch[i] = X[num_batches * i: num_batches * (i+1)]\n",
    "\n",
    "    truncate_size = num_batches // truncate_steps\n",
    "\n",
    "    for i in range(truncate_size):\n",
    "        x = X_batch[:, truncate_steps * i: truncate_steps * (i+1)]\n",
    "        y = Y_batch[:, truncate_steps * i: truncate_steps * (i+1)]\n",
    "        yield(x, y)\n",
    "\n",
    "\n",
    "def epoch_data_gen(n, truncate_steps):\n",
    "    for i in range(n):\n",
    "        yield batch_data_gen(generate_data(), batch_size, truncate_steps)"
   ]
  },
  {
   "cell_type": "code",
   "execution_count": 46,
   "metadata": {
    "collapsed": false
   },
   "outputs": [
    {
     "name": "stdout",
     "output_type": "stream",
     "text": [
      "(200, 5000)\n"
     ]
    }
   ],
   "source": []
  },
  {
   "cell_type": "code",
   "execution_count": null,
   "metadata": {
    "collapsed": true
   },
   "outputs": [],
   "source": []
  }
 ],
 "metadata": {
  "anaconda-cloud": {},
  "kernelspec": {
   "display_name": "Python [conda env:dog-project]",
   "language": "python",
   "name": "conda-env-dog-project-py"
  },
  "language_info": {
   "codemirror_mode": {
    "name": "ipython",
    "version": 3
   },
   "file_extension": ".py",
   "mimetype": "text/x-python",
   "name": "python",
   "nbconvert_exporter": "python",
   "pygments_lexer": "ipython3",
   "version": "3.5.3"
  }
 },
 "nbformat": 4,
 "nbformat_minor": 2
}
